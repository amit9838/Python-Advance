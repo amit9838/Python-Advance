{
 "cells": [
  {
   "cell_type": "markdown",
   "metadata": {},
   "source": [
    "# Decorators\n",
    "In Python, a decorator is a design pattern that allows you to modify the functionality of a function by wrapping it in another function.\n",
    "\n",
    "The outer function is called the decorator, which takes the original function as an argument and returns a modified version of it."
   ]
  },
  {
   "cell_type": "markdown",
   "metadata": {},
   "source": [
    "**First Class Objects**\n",
    "\n",
    "In Python, functions are first class objects which means that functions in Python can be used or passed as arguments.\n",
    "Properties of first class functions:\n",
    "\n",
    "- A function is an instance of the Object type.\n",
    "- You can store the function in a variable.\n",
    "- You can pass the function as a parameter to another function.\n",
    "- You can return the function from a function.\n",
    "- You can store them in data structures such as hash tables, lists, …\n"
   ]
  },
  {
   "cell_type": "code",
   "execution_count": 21,
   "metadata": {},
   "outputs": [],
   "source": [
    "def counter(fn):\n",
    "    cnt = 0\n",
    "    def inner(*args,**kwargs):\n",
    "        \"\"\"Docstring in the inner function\n",
    "        \"\"\"\n",
    "        nonlocal cnt\n",
    "        cnt+=1\n",
    "        print(f\"Function: {fn.__name__} with id {id(fn)} was called {cnt} times\")\n",
    "        return fn(*args,**kwargs)\n",
    "    return inner "
   ]
  },
  {
   "cell_type": "code",
   "execution_count": 22,
   "metadata": {},
   "outputs": [],
   "source": [
    "def add(a:int,b:int=0):\n",
    "    \"\"\"Calculates the sum of two numbers and retrns the result\n",
    "\n",
    "    Args:\n",
    "        a (int): first number\n",
    "        b (int, optional): second number. Defaults to 0.\n",
    "\n",
    "    Returns:\n",
    "        int: sum of first number and second number\n",
    "    \"\"\"\n",
    "    return a+b"
   ]
  },
  {
   "cell_type": "code",
   "execution_count": 23,
   "metadata": {},
   "outputs": [
    {
     "data": {
      "text/plain": [
       "'0x1075c8860'"
      ]
     },
     "execution_count": 23,
     "metadata": {},
     "output_type": "execute_result"
    }
   ],
   "source": [
    "hex(id(add))"
   ]
  },
  {
   "cell_type": "code",
   "execution_count": 24,
   "metadata": {},
   "outputs": [
    {
     "name": "stdout",
     "output_type": "stream",
     "text": [
      "Help on function add in module __main__:\n",
      "\n",
      "add(a: int, b: int = 0)\n",
      "    Calculates the sum of two numbers and retrns the result\n",
      "    \n",
      "    Args:\n",
      "        a (int): first number\n",
      "        b (int, optional): second number. Defaults to 0.\n",
      "    \n",
      "    Returns:\n",
      "        int: sum of first number and second number\n",
      "\n"
     ]
    }
   ],
   "source": [
    "# Checking the description of the function\n",
    "help(add)"
   ]
  },
  {
   "cell_type": "markdown",
   "metadata": {},
   "source": [
    "Now, overwriting above add function with closure add function"
   ]
  },
  {
   "cell_type": "code",
   "execution_count": 25,
   "metadata": {},
   "outputs": [],
   "source": [
    "add = counter(add)"
   ]
  },
  {
   "cell_type": "code",
   "execution_count": 26,
   "metadata": {},
   "outputs": [
    {
     "data": {
      "text/plain": [
       "'0x1070a45e0'"
      ]
     },
     "execution_count": 26,
     "metadata": {},
     "output_type": "execute_result"
    }
   ],
   "source": [
    "hex(id(add))"
   ]
  },
  {
   "cell_type": "markdown",
   "metadata": {},
   "source": [
    "ID of the add function is still the same becasue cell in the closure points the same `add` function, let's see"
   ]
  },
  {
   "cell_type": "code",
   "execution_count": 27,
   "metadata": {},
   "outputs": [
    {
     "data": {
      "text/plain": [
       "(<cell at 0x1071b1db0: int object at 0x10415ed50>,\n",
       " <cell at 0x1071b2320: function object at 0x1075c8860>)"
      ]
     },
     "execution_count": 27,
     "metadata": {},
     "output_type": "execute_result"
    }
   ],
   "source": [
    "add.__closure__"
   ]
  },
  {
   "cell_type": "markdown",
   "metadata": {},
   "source": [
    "> Here we can see that `closure` contains two free variables\n",
    "- 1. count (keeps track that how many times the function has been called)\n",
    "- 2. add function (we can see that cell points the same function object as the memory addresses are same)\n",
    "\n",
    "> But one thing to note is that information like - _docstring_,_name_,_signature_ is changed and it is from inner function of the decorator"
   ]
  },
  {
   "cell_type": "code",
   "execution_count": 28,
   "metadata": {},
   "outputs": [
    {
     "name": "stdout",
     "output_type": "stream",
     "text": [
      "Help on function inner in module __main__:\n",
      "\n",
      "inner(*args, **kwargs)\n",
      "    Docstring in the inner function\n",
      "\n"
     ]
    }
   ],
   "source": [
    "help(add)"
   ]
  },
  {
   "cell_type": "code",
   "execution_count": 29,
   "metadata": {},
   "outputs": [
    {
     "name": "stdout",
     "output_type": "stream",
     "text": [
      "Function: add with id 4418472032 was called 1 times\n"
     ]
    },
    {
     "data": {
      "text/plain": [
       "30"
      ]
     },
     "execution_count": 29,
     "metadata": {},
     "output_type": "execute_result"
    }
   ],
   "source": [
    "add(10,20)"
   ]
  },
  {
   "cell_type": "code",
   "execution_count": 30,
   "metadata": {},
   "outputs": [
    {
     "name": "stdout",
     "output_type": "stream",
     "text": [
      "Function: add with id 4418472032 was called 2 times\n"
     ]
    },
    {
     "data": {
      "text/plain": [
       "6"
      ]
     },
     "execution_count": 30,
     "metadata": {},
     "output_type": "execute_result"
    }
   ],
   "source": [
    "add(1,5)"
   ]
  },
  {
   "cell_type": "markdown",
   "metadata": {},
   "source": [
    "Since inner function takes `*args` and `**kwargs` therefore we can pass any type of argument to a function.\n",
    "Now, lets define a multiply function with diffrent types of arguments."
   ]
  },
  {
   "cell_type": "code",
   "execution_count": 31,
   "metadata": {},
   "outputs": [],
   "source": [
    "def mul(a:int, b:int, c:int = 1,*,d:int):\n",
    "    \"\"\"Multiples four arguments a,b,c,d among which a,b are compulsory positional arguments and c is optional, and at the end d is passed as keyword argumemnt.\n",
    "\n",
    "    Args:\n",
    "        a (int): required\n",
    "        b (int): required\n",
    "        d (int): required\n",
    "        c (int, optional): _description_. Defaults to 1.\n",
    "    \"\"\"\n",
    "    return a*b*c*d"
   ]
  },
  {
   "cell_type": "code",
   "execution_count": 32,
   "metadata": {},
   "outputs": [],
   "source": [
    "mul = counter(mul)"
   ]
  },
  {
   "cell_type": "code",
   "execution_count": 33,
   "metadata": {},
   "outputs": [
    {
     "name": "stdout",
     "output_type": "stream",
     "text": [
      "Function: mul with id 4418473472 was called 1 times\n"
     ]
    },
    {
     "ename": "TypeError",
     "evalue": "mul() takes from 2 to 3 positional arguments but 4 were given",
     "output_type": "error",
     "traceback": [
      "\u001b[0;31m---------------------------------------------------------------------------\u001b[0m",
      "\u001b[0;31mTypeError\u001b[0m                                 Traceback (most recent call last)",
      "\u001b[1;32m/Users/amit/Drive-D/Code/Python/Advance Python/Decorators/decorators_p1.ipynb Cell 18\u001b[0m line \u001b[0;36m1\n\u001b[0;32m----> <a href='vscode-notebook-cell:/Users/amit/Drive-D/Code/Python/Advance%20Python/Decorators/decorators_p1.ipynb#X23sZmlsZQ%3D%3D?line=0'>1</a>\u001b[0m mul(\u001b[39m2\u001b[39;49m,\u001b[39m3\u001b[39;49m,\u001b[39m4\u001b[39;49m,\u001b[39m6\u001b[39;49m)\n",
      "\u001b[1;32m/Users/amit/Drive-D/Code/Python/Advance Python/Decorators/decorators_p1.ipynb Cell 18\u001b[0m line \u001b[0;36m9\n\u001b[1;32m      <a href='vscode-notebook-cell:/Users/amit/Drive-D/Code/Python/Advance%20Python/Decorators/decorators_p1.ipynb#X23sZmlsZQ%3D%3D?line=6'>7</a>\u001b[0m cnt\u001b[39m+\u001b[39m\u001b[39m=\u001b[39m\u001b[39m1\u001b[39m\n\u001b[1;32m      <a href='vscode-notebook-cell:/Users/amit/Drive-D/Code/Python/Advance%20Python/Decorators/decorators_p1.ipynb#X23sZmlsZQ%3D%3D?line=7'>8</a>\u001b[0m \u001b[39mprint\u001b[39m(\u001b[39mf\u001b[39m\u001b[39m\"\u001b[39m\u001b[39mFunction: \u001b[39m\u001b[39m{\u001b[39;00mfn\u001b[39m.\u001b[39m\u001b[39m__name__\u001b[39m\u001b[39m}\u001b[39;00m\u001b[39m with id \u001b[39m\u001b[39m{\u001b[39;00m\u001b[39mid\u001b[39m(fn)\u001b[39m}\u001b[39;00m\u001b[39m was called \u001b[39m\u001b[39m{\u001b[39;00mcnt\u001b[39m}\u001b[39;00m\u001b[39m times\u001b[39m\u001b[39m\"\u001b[39m)\n\u001b[0;32m----> <a href='vscode-notebook-cell:/Users/amit/Drive-D/Code/Python/Advance%20Python/Decorators/decorators_p1.ipynb#X23sZmlsZQ%3D%3D?line=8'>9</a>\u001b[0m \u001b[39mreturn\u001b[39;00m fn(\u001b[39m*\u001b[39;49margs,\u001b[39m*\u001b[39;49m\u001b[39m*\u001b[39;49mkwargs)\n",
      "\u001b[0;31mTypeError\u001b[0m: mul() takes from 2 to 3 positional arguments but 4 were given"
     ]
    }
   ],
   "source": [
    "mul(2,3,4,6)"
   ]
  },
  {
   "cell_type": "markdown",
   "metadata": {},
   "source": [
    "> Here d must be passed as keyword argument"
   ]
  },
  {
   "cell_type": "code",
   "execution_count": null,
   "metadata": {},
   "outputs": [
    {
     "name": "stdout",
     "output_type": "stream",
     "text": [
      "Function: mul with id 4491954432 was called 2 times\n"
     ]
    },
    {
     "data": {
      "text/plain": [
       "144"
      ]
     },
     "execution_count": 71,
     "metadata": {},
     "output_type": "execute_result"
    }
   ],
   "source": [
    "mul(2,3,4,d=6)"
   ]
  },
  {
   "cell_type": "code",
   "execution_count": null,
   "metadata": {},
   "outputs": [
    {
     "name": "stdout",
     "output_type": "stream",
     "text": [
      "Function: mul with id 4491954432 was called 3 times\n"
     ]
    },
    {
     "data": {
      "text/plain": [
       "24"
      ]
     },
     "execution_count": 72,
     "metadata": {},
     "output_type": "execute_result"
    }
   ],
   "source": [
    "# Since c is optioanl, so\n",
    "mul(2,3,d=4)"
   ]
  },
  {
   "cell_type": "markdown",
   "metadata": {},
   "source": [
    "#### Apply decorator to a function\n",
    "We know that we can apply decorator to a function , by pass it(function) as an argument to the decorator function like this-\n",
    "``` python\n",
    "add = counter(add)\n",
    "```\n",
    "Other way to apply decorator is below"
   ]
  },
  {
   "cell_type": "code",
   "execution_count": null,
   "metadata": {},
   "outputs": [],
   "source": [
    "@counter\n",
    "def my_func(a:str,b:int):\n",
    "    return a*b"
   ]
  },
  {
   "cell_type": "code",
   "execution_count": null,
   "metadata": {},
   "outputs": [
    {
     "name": "stdout",
     "output_type": "stream",
     "text": [
      "Function: my_func with id 4487036768 was called 1 times\n"
     ]
    },
    {
     "data": {
      "text/plain": [
       "'aaa'"
      ]
     },
     "execution_count": 74,
     "metadata": {},
     "output_type": "execute_result"
    }
   ],
   "source": [
    "my_func('a',3)"
   ]
  },
  {
   "cell_type": "markdown",
   "metadata": {},
   "source": [
    "#### Function identity\n",
    "As we have seen above the identity of function is lost when we apply `decorator` to it, so we we can preserve it\n",
    "by re-assigning the values like docstring,name etc."
   ]
  },
  {
   "cell_type": "code",
   "execution_count": null,
   "metadata": {},
   "outputs": [],
   "source": [
    "def counter(fn):\n",
    "    cnt = 0\n",
    "    def inner(*args,**kwargs):\n",
    "        \"\"\"Docstring in the inner function\n",
    "        \"\"\"\n",
    "        nonlocal cnt\n",
    "        cnt+=1\n",
    "        print(f\"Function: {fn.__name__} with id {id(fn)} was called {cnt} times\")\n",
    "        inner.__name__ = fn.__name__\n",
    "        inner.__doc__ = fn.__doc__\n",
    "        return fn(*args,**kwargs)\n",
    "    return inner "
   ]
  },
  {
   "cell_type": "markdown",
   "metadata": {},
   "source": [
    "Other way is we can do this by using python muilt-in function `wraps` and it can be imported as\n",
    "\n",
    "```python\n",
    "from functools import wraps\n",
    "```\n",
    "wraps is itself a decorator and it can be used in two ways as below - "
   ]
  },
  {
   "cell_type": "code",
   "execution_count": null,
   "metadata": {},
   "outputs": [],
   "source": [
    "# Method 1\n",
    "from functools import wraps\n",
    "\n",
    "def counter(fn):\n",
    "    cnt = 0\n",
    "    def inner(*args,**kwargs):\n",
    "        \"\"\"Docstring in the inner function\n",
    "        \"\"\"\n",
    "        nonlocal cnt\n",
    "        cnt+=1\n",
    "        print(f\"Function: {fn.__name__} with id {id(fn)} was called {cnt} times\")\n",
    "        return fn(*args,**kwargs)\n",
    "    inner = wraps(fn)(inner)  #Use wraps here \n",
    "    return inner "
   ]
  },
  {
   "cell_type": "code",
   "execution_count": null,
   "metadata": {},
   "outputs": [],
   "source": [
    "# Method 1 (use it as decorator)\n",
    "from functools import wraps\n",
    "\n",
    "def counter2(fn):\n",
    "    cnt = 0\n",
    "    \n",
    "    wraps(fn)  #  Use wraps as a decorator\n",
    "    def inner(*args,**kwargs):\n",
    "        \"\"\"Docstring in the inner function\n",
    "        \"\"\"\n",
    "        nonlocal cnt\n",
    "        cnt+=1\n",
    "        print(f\"Function: {fn.__name__} with id {id(fn)} was called {cnt} times\")\n",
    "        return fn(*args,**kwargs)\n",
    "    return inner "
   ]
  },
  {
   "cell_type": "markdown",
   "metadata": {},
   "source": [
    "So it we use counter decorator to any function, it should retain the information of the function\n",
    "\n",
    "like - name, docstring, signature etc. "
   ]
  },
  {
   "cell_type": "code",
   "execution_count": null,
   "metadata": {},
   "outputs": [],
   "source": [
    "def mul2(a:int, b:int, c:int = 1,*,d:int):\n",
    "    \"\"\"Multiples four arguments a,b,c,d among which a,b are compulsory positional arguments and c is optional, and at the end d is passed as keyword argumemnt.\n",
    "\n",
    "    Args:\n",
    "        a (int): required\n",
    "        b (int): required\n",
    "        d (int): required\n",
    "        c (int, optional): _description_. Defaults to 1.\n",
    "    \"\"\"\n",
    "    return a*b*c*d"
   ]
  },
  {
   "cell_type": "code",
   "execution_count": null,
   "metadata": {},
   "outputs": [
    {
     "name": "stdout",
     "output_type": "stream",
     "text": [
      "Help on function mul2 in module __main__:\n",
      "\n",
      "mul2(a: int, b: int, c: int = 1, *, d: int)\n",
      "    Multiples four arguments a,b,c,d among which a,b are compulsory positional arguments and c is optional, and at the end d is passed as keyword argumemnt.\n",
      "    \n",
      "    Args:\n",
      "        a (int): required\n",
      "        b (int): required\n",
      "        d (int): required\n",
      "        c (int, optional): _description_. Defaults to 1.\n",
      "\n"
     ]
    }
   ],
   "source": [
    "help(mul2)"
   ]
  },
  {
   "cell_type": "code",
   "execution_count": null,
   "metadata": {},
   "outputs": [],
   "source": [
    "mul = counter2(mul2)"
   ]
  },
  {
   "cell_type": "code",
   "execution_count": null,
   "metadata": {},
   "outputs": [
    {
     "name": "stdout",
     "output_type": "stream",
     "text": [
      "Help on function mul2 in module __main__:\n",
      "\n",
      "mul2(a: int, b: int, c: int = 1, *, d: int)\n",
      "    Multiples four arguments a,b,c,d among which a,b are compulsory positional arguments and c is optional, and at the end d is passed as keyword argumemnt.\n",
      "    \n",
      "    Args:\n",
      "        a (int): required\n",
      "        b (int): required\n",
      "        d (int): required\n",
      "        c (int, optional): _description_. Defaults to 1.\n",
      "\n"
     ]
    }
   ],
   "source": [
    "help(mul2)"
   ]
  }
 ],
 "metadata": {
  "kernelspec": {
   "display_name": ".venv",
   "language": "python",
   "name": "python3"
  },
  "language_info": {
   "codemirror_mode": {
    "name": "ipython",
    "version": 3
   },
   "file_extension": ".py",
   "mimetype": "text/x-python",
   "name": "python",
   "nbconvert_exporter": "python",
   "pygments_lexer": "ipython3",
   "version": "3.11.6"
  }
 },
 "nbformat": 4,
 "nbformat_minor": 2
}
