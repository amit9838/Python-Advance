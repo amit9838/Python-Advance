{
 "cells": [
  {
   "cell_type": "markdown",
   "metadata": {},
   "source": [
    "# Decorator Applications\n",
    "\n",
    "#### Counter"
   ]
  },
  {
   "cell_type": "code",
   "execution_count": 1,
   "metadata": {},
   "outputs": [],
   "source": [
    "def timed(fn):\n",
    "    from functools import wraps\n",
    "    from time import perf_counter\n",
    "    \n",
    "    def inner(*args,**kwargs):\n",
    "        start = perf_counter()\n",
    "        result = fn(*args,**kwargs)\n",
    "        end = perf_counter()\n",
    "        elapsed = end-start\n",
    "        args_ = [str(a) for a in args]\n",
    "        kwargs_ = ['{0}={1} '.format(k,v) for (k,v) in kwargs.items()]\n",
    "        all_args_ = args_ + kwargs_\n",
    "        args_str = ','.join(all_args_)\n",
    "        print(\"{0}({1}) took {2:.6f} to run\".format(fn.__name__, args_str,elapsed))\n",
    "        return result\n",
    "    return inner"
   ]
  },
  {
   "cell_type": "markdown",
   "metadata": {},
   "source": [
    "Write function to canculate fibonacci\n",
    "\n",
    "- recursion\n",
    "- loop\n",
    "- reduce"
   ]
  },
  {
   "cell_type": "code",
   "execution_count": 2,
   "metadata": {},
   "outputs": [],
   "source": [
    "# @timed\n",
    "def fib_recursive(n):\n",
    "    if n < 2:\n",
    "        return n\n",
    "    return fib_recursive(n-1) + fib_recursive(n-2)"
   ]
  },
  {
   "cell_type": "code",
   "execution_count": 3,
   "metadata": {},
   "outputs": [
    {
     "name": "stdout",
     "output_type": "stream",
     "text": [
      "fib_recursive(1) took 0.000000 to run\n",
      "fib_recursive(0) took 0.000001 to run\n",
      "fib_recursive(2) took 0.000121 to run\n",
      "fib_recursive(1) took 0.000000 to run\n",
      "fib_recursive(3) took 0.000136 to run\n"
     ]
    },
    {
     "data": {
      "text/plain": [
       "2"
      ]
     },
     "execution_count": 3,
     "metadata": {},
     "output_type": "execute_result"
    }
   ],
   "source": [
    "fib_recursive(3)"
   ]
  },
  {
   "cell_type": "code",
   "execution_count": 4,
   "metadata": {},
   "outputs": [
    {
     "name": "stdout",
     "output_type": "stream",
     "text": [
      "fib_recursive(1) took 0.000000 to run\n",
      "fib_recursive(0) took 0.000001 to run\n",
      "fib_recursive(2) took 0.000052 to run\n"
     ]
    },
    {
     "data": {
      "text/plain": [
       "1"
      ]
     },
     "execution_count": 4,
     "metadata": {},
     "output_type": "execute_result"
    }
   ],
   "source": [
    "fib_recursive(2)"
   ]
  },
  {
   "cell_type": "code",
   "execution_count": 5,
   "metadata": {},
   "outputs": [],
   "source": [
    "# fib_recursive is printing multiple lines and it can be fixed by creating a higher \n",
    "# order function and calling fib_recursive with the help of that function\n",
    "@timed\n",
    "def fib_recursive_caller(n):\n",
    "    return fib_recursive(n)"
   ]
  },
  {
   "cell_type": "code",
   "execution_count": 15,
   "metadata": {},
   "outputs": [
    {
     "name": "stdout",
     "output_type": "stream",
     "text": [
      "fib_recursive_caller(6) took 0.000005 to run\n"
     ]
    },
    {
     "data": {
      "text/plain": [
       "8"
      ]
     },
     "execution_count": 15,
     "metadata": {},
     "output_type": "execute_result"
    }
   ],
   "source": [
    "fib_recursive_caller(6)"
   ]
  },
  {
   "cell_type": "code",
   "execution_count": 16,
   "metadata": {},
   "outputs": [
    {
     "name": "stdout",
     "output_type": "stream",
     "text": [
      "fib_recursive_caller(30) took 0.150119 to run\n"
     ]
    },
    {
     "data": {
      "text/plain": [
       "832040"
      ]
     },
     "execution_count": 16,
     "metadata": {},
     "output_type": "execute_result"
    }
   ],
   "source": [
    "fib_recursive_caller(30)"
   ]
  },
  {
   "cell_type": "code",
   "execution_count": 17,
   "metadata": {},
   "outputs": [
    {
     "name": "stdout",
     "output_type": "stream",
     "text": [
      "fib_recursive_caller(35) took 1.651569 to run\n"
     ]
    },
    {
     "data": {
      "text/plain": [
       "9227465"
      ]
     },
     "execution_count": 17,
     "metadata": {},
     "output_type": "execute_result"
    }
   ],
   "source": [
    "fib_recursive_caller(35)"
   ]
  },
  {
   "cell_type": "code",
   "execution_count": 18,
   "metadata": {},
   "outputs": [
    {
     "name": "stdout",
     "output_type": "stream",
     "text": [
      "fib_recursive_caller(36) took 2.681460 to run\n"
     ]
    },
    {
     "data": {
      "text/plain": [
       "14930352"
      ]
     },
     "execution_count": 18,
     "metadata": {},
     "output_type": "execute_result"
    }
   ],
   "source": [
    "fib_recursive_caller(36)"
   ]
  },
  {
   "cell_type": "markdown",
   "metadata": {},
   "source": [
    "#### Using Loop"
   ]
  },
  {
   "cell_type": "code",
   "execution_count": 26,
   "metadata": {},
   "outputs": [],
   "source": [
    "@timed\n",
    "def fib_loop(n):\n",
    "    fib_1 = 1\n",
    "    fib_2 = 1\n",
    "    for i in range(3,n+1):\n",
    "        # temp = fib_2\n",
    "        # fib_2 = fib_1 + fib_2\n",
    "        # fib_1 = temp\n",
    "        \n",
    "        \n",
    "        # Above logic in one line\n",
    "        fib_1, fib_2 = fib_2 , fib_1 + fib_2\n",
    "    return fib_2"
   ]
  },
  {
   "cell_type": "code",
   "execution_count": 27,
   "metadata": {},
   "outputs": [
    {
     "name": "stdout",
     "output_type": "stream",
     "text": [
      "fib_loop(36) took 0.000003 to run\n"
     ]
    },
    {
     "data": {
      "text/plain": [
       "14930352"
      ]
     },
     "execution_count": 27,
     "metadata": {},
     "output_type": "execute_result"
    }
   ],
   "source": [
    "fib_loop(36)"
   ]
  },
  {
   "cell_type": "markdown",
   "metadata": {},
   "source": [
    "#### Using reduce function\n",
    "t means tuple\n",
    "```\n",
    "n=1\n",
    "(1,0) --> (1,1) result t[0] = 1\n",
    "\n",
    "n=2\n",
    "(1,0) --> (1,1) --> (2,1) result t[0] = 2\n",
    "\n",
    "n=3\n",
    "(1,0) --> (1,1) --> (2,1) --> (3,2) result t[0] = 3\n",
    "\n",
    "n=4\n",
    "(1,0) --> (1,1) --> (2,1) --> (3,2) --> (5,3) result t[0] = 5\n",
    "\n",
    "\n",
    "To calculate next tuple-\n",
    "formula: (a,b) --> (a+b, a)\n",
    "```\n",
    "\n",
    "Now, let's `time` it "
   ]
  },
  {
   "cell_type": "code",
   "execution_count": 34,
   "metadata": {},
   "outputs": [],
   "source": [
    "from functools import reduce\n",
    "@timed\n",
    "def fib_reduce(n):\n",
    "    intial = (1,0)\n",
    "    dummy = range(2,n+1)\n",
    "    fib_n = reduce(lambda prev,n:(prev[0]+prev[1],prev[0]),dummy,intial)\n",
    "    return fib_n[0]  "
   ]
  },
  {
   "cell_type": "code",
   "execution_count": 35,
   "metadata": {},
   "outputs": [
    {
     "name": "stdout",
     "output_type": "stream",
     "text": [
      "fib_reduce(36) took 0.000008 to run\n"
     ]
    },
    {
     "data": {
      "text/plain": [
       "14930352"
      ]
     },
     "execution_count": 35,
     "metadata": {},
     "output_type": "execute_result"
    }
   ],
   "source": [
    "fib_reduce(36)"
   ]
  },
  {
   "cell_type": "markdown",
   "metadata": {},
   "source": [
    "> Here we can see that loop is definitly faster among all"
   ]
  }
 ],
 "metadata": {
  "kernelspec": {
   "display_name": ".venv",
   "language": "python",
   "name": "python3"
  },
  "language_info": {
   "codemirror_mode": {
    "name": "ipython",
    "version": 3
   },
   "file_extension": ".py",
   "mimetype": "text/x-python",
   "name": "python",
   "nbconvert_exporter": "python",
   "pygments_lexer": "ipython3",
   "version": "3.11.6"
  }
 },
 "nbformat": 4,
 "nbformat_minor": 2
}
