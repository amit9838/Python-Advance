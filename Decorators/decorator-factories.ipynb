{
 "cells": [
  {
   "cell_type": "markdown",
   "metadata": {},
   "source": [
    "# Decorator Factories"
   ]
  },
  {
   "cell_type": "code",
   "execution_count": 26,
   "metadata": {},
   "outputs": [],
   "source": [
    "def timed(fn):\n",
    "    from functools import wraps\n",
    "    from time import perf_counter\n",
    "    \n",
    "    @wraps(fn)\n",
    "    def inner(*args,**kwargs):\n",
    "        \n",
    "        start = perf_counter()\n",
    "        result = fn(*args,**kwargs)\n",
    "        end = perf_counter()\n",
    "        elapsed = end-start\n",
    "        args_ = [str(a) for a in args]\n",
    "        kwargs_ = ['{0}={1} '.format(k,v) for (k,v) in kwargs.items()]\n",
    "        all_args_ = args_ + kwargs_\n",
    "        args_str = ','.join(all_args_)\n",
    "        print(\"{0}({1}) took {2:.6f} to run\".format(fn.__name__, args_str,elapsed))\n",
    "        return result\n",
    "    return inner\n",
    "    "
   ]
  },
  {
   "cell_type": "code",
   "execution_count": 31,
   "metadata": {},
   "outputs": [],
   "source": [
    "def fib_recursive(n):\n",
    "    if n < 2:\n",
    "        return n\n",
    "    return fib_recursive(n-1) + fib_recursive(n-2)"
   ]
  },
  {
   "cell_type": "code",
   "execution_count": 28,
   "metadata": {},
   "outputs": [],
   "source": [
    "@timed\n",
    "def fib(n):\n",
    "    return fib_recursive(n)"
   ]
  },
  {
   "cell_type": "code",
   "execution_count": 37,
   "metadata": {},
   "outputs": [
    {
     "name": "stdout",
     "output_type": "stream",
     "text": [
      "Avg. run time : 0.151137 to run\n"
     ]
    },
    {
     "data": {
      "text/plain": [
       "832040"
      ]
     },
     "execution_count": 37,
     "metadata": {},
     "output_type": "execute_result"
    }
   ],
   "source": [
    "fib(30)"
   ]
  },
  {
   "cell_type": "code",
   "execution_count": 41,
   "metadata": {},
   "outputs": [],
   "source": [
    "def timed(fn):\n",
    "    from functools import wraps\n",
    "    from time import perf_counter\n",
    "    \n",
    "    @wraps(fn)\n",
    "    def inner(*args,**kwargs):\n",
    "        total_elapsed = 0\n",
    "        for i in range(10):\n",
    "            start = perf_counter()\n",
    "            result = fn(*args,**kwargs)\n",
    "            end = perf_counter()\n",
    "            total_elapsed += end-start\n",
    "        \n",
    "        avg_run_time = total_elapsed / 10\n",
    "        print(\"Avg. run time : {0:.6f}s\".format(avg_run_time))\n",
    "        return result\n",
    "    return inner\n",
    "    "
   ]
  },
  {
   "cell_type": "markdown",
   "metadata": {},
   "source": [
    "Here we are calculating average elapsed time by running the function 10 time and then calculating its avg.\n",
    "Let's say we want to the avg for 20 calls or 25 calls then we need one more parameter."
   ]
  },
  {
   "cell_type": "code",
   "execution_count": 43,
   "metadata": {},
   "outputs": [],
   "source": [
    "@timed\n",
    "def fib(n):\n",
    "    return fib_recursive(n)"
   ]
  },
  {
   "cell_type": "code",
   "execution_count": 44,
   "metadata": {},
   "outputs": [
    {
     "name": "stdout",
     "output_type": "stream",
     "text": [
      "Avg. run time : 1.681875s\n"
     ]
    },
    {
     "data": {
      "text/plain": [
       "9227465"
      ]
     },
     "execution_count": 44,
     "metadata": {},
     "output_type": "execute_result"
    }
   ],
   "source": [
    "fib(35)"
   ]
  },
  {
   "cell_type": "markdown",
   "metadata": {},
   "source": [
    "Trying to add parameter to decorator function"
   ]
  },
  {
   "cell_type": "code",
   "execution_count": 48,
   "metadata": {},
   "outputs": [],
   "source": [
    "def timed(fn,raps):\n",
    "    from functools import wraps\n",
    "    from time import perf_counter\n",
    "    \n",
    "    @wraps(fn)\n",
    "    def inner(*args,**kwargs):\n",
    "        total_elapsed = 0\n",
    "        for i in range(raps):\n",
    "            start = perf_counter()\n",
    "            result = fn(*args,**kwargs)\n",
    "            end = perf_counter()\n",
    "            total_elapsed += end-start\n",
    "        \n",
    "        avg_run_time = total_elapsed / 10\n",
    "        print(\"Avg. run time : {0:.6f}s for {1} raps \".format(avg_run_time,raps))\n",
    "        return result\n",
    "    return inner"
   ]
  },
  {
   "cell_type": "code",
   "execution_count": 49,
   "metadata": {},
   "outputs": [],
   "source": [
    "def fib(n):\n",
    "    return fib_recursive(n)"
   ]
  },
  {
   "cell_type": "code",
   "execution_count": 52,
   "metadata": {},
   "outputs": [],
   "source": [
    "# Decotating the fucntion\n",
    "fib = timed(fib,10)  # average is being calculated for 10 wraps"
   ]
  },
  {
   "cell_type": "code",
   "execution_count": 51,
   "metadata": {},
   "outputs": [
    {
     "name": "stdout",
     "output_type": "stream",
     "text": [
      "Avg. run time : 0.000014s for 10 raps \n"
     ]
    },
    {
     "data": {
      "text/plain": [
       "55"
      ]
     },
     "execution_count": 51,
     "metadata": {},
     "output_type": "execute_result"
    }
   ],
   "source": [
    "fib(10)"
   ]
  },
  {
   "cell_type": "markdown",
   "metadata": {},
   "source": [
    "But the problem over here is that we can't decorate a function using `@` operator like `timed(10)`"
   ]
  },
  {
   "cell_type": "code",
   "execution_count": 53,
   "metadata": {},
   "outputs": [
    {
     "ename": "TypeError",
     "evalue": "timed() missing 1 required positional argument: 'raps'",
     "output_type": "error",
     "traceback": [
      "\u001b[0;31m---------------------------------------------------------------------------\u001b[0m",
      "\u001b[0;31mTypeError\u001b[0m                                 Traceback (most recent call last)",
      "\u001b[1;32m/Users/amit/Drive-D/Code/Python/Advance Python/Decorators/decorator-factories.ipynb Cell 16\u001b[0m line \u001b[0;36m1\n\u001b[0;32m----> <a href='vscode-notebook-cell:/Users/amit/Drive-D/Code/Python/Advance%20Python/Decorators/decorator-factories.ipynb#X20sZmlsZQ%3D%3D?line=0'>1</a>\u001b[0m timed(\u001b[39m10\u001b[39;49m)\n\u001b[1;32m      <a href='vscode-notebook-cell:/Users/amit/Drive-D/Code/Python/Advance%20Python/Decorators/decorator-factories.ipynb#X20sZmlsZQ%3D%3D?line=1'>2</a>\u001b[0m \u001b[39mdef\u001b[39;00m \u001b[39mfib\u001b[39m(n):\n\u001b[1;32m      <a href='vscode-notebook-cell:/Users/amit/Drive-D/Code/Python/Advance%20Python/Decorators/decorator-factories.ipynb#X20sZmlsZQ%3D%3D?line=2'>3</a>\u001b[0m     \u001b[39mreturn\u001b[39;00m fib_recursive(n)\n",
      "\u001b[0;31mTypeError\u001b[0m: timed() missing 1 required positional argument: 'raps'"
     ]
    }
   ],
   "source": [
    "timed(10)\n",
    "def fib(n):\n",
    "    return fib_recursive(n)"
   ]
  },
  {
   "cell_type": "markdown",
   "metadata": {},
   "source": [
    "---\n",
    "> To resolve this issue we need to create a decorator factory"
   ]
  },
  {
   "cell_type": "code",
   "execution_count": 62,
   "metadata": {},
   "outputs": [],
   "source": [
    "def dec(fn):\n",
    "    print(\"Running decorator\")\n",
    "    \n",
    "    def inner(*args,**kwargs):\n",
    "        print(\"running inner\")\n",
    "        return fn(*args,**kwargs)\n",
    "    return inner"
   ]
  },
  {
   "cell_type": "code",
   "execution_count": 63,
   "metadata": {},
   "outputs": [
    {
     "name": "stdout",
     "output_type": "stream",
     "text": [
      "Running decorator\n"
     ]
    }
   ],
   "source": [
    "@dec\n",
    "def my_func():\n",
    "    print(\"Running my_func\")\n",
    "    "
   ]
  },
  {
   "cell_type": "markdown",
   "metadata": {},
   "source": [
    "Decorating without @ operator"
   ]
  },
  {
   "cell_type": "code",
   "execution_count": 64,
   "metadata": {},
   "outputs": [],
   "source": [
    "def my_func():\n",
    "    print(\"Running my_func\")"
   ]
  },
  {
   "cell_type": "code",
   "execution_count": 65,
   "metadata": {},
   "outputs": [
    {
     "name": "stdout",
     "output_type": "stream",
     "text": [
      "Running decorator\n"
     ]
    }
   ],
   "source": [
    "my_func = dec(my_func)"
   ]
  },
  {
   "cell_type": "code",
   "execution_count": 66,
   "metadata": {},
   "outputs": [
    {
     "name": "stdout",
     "output_type": "stream",
     "text": [
      "running inner\n",
      "Running my_func\n"
     ]
    }
   ],
   "source": [
    "my_func()"
   ]
  },
  {
   "cell_type": "markdown",
   "metadata": {},
   "source": [
    "Now creating a decorator factory, using which we can create multiple decorators"
   ]
  },
  {
   "cell_type": "code",
   "execution_count": 2,
   "metadata": {},
   "outputs": [],
   "source": [
    "def dec_factory():\n",
    "    print(\"Running decorator factory\")\n",
    "    def dec(fn):\n",
    "        print(\"Running decorator\")\n",
    "        \n",
    "        def inner(*args,**kwargs):\n",
    "            print(\"running inner\")\n",
    "            return fn(*args,**kwargs)\n",
    "        return inner\n",
    "    return dec"
   ]
  },
  {
   "cell_type": "code",
   "execution_count": 3,
   "metadata": {},
   "outputs": [
    {
     "name": "stdout",
     "output_type": "stream",
     "text": [
      "Running decorator factory\n"
     ]
    }
   ],
   "source": [
    "# Create a decorator insgtance\n",
    "dec = dec_factory()"
   ]
  },
  {
   "cell_type": "code",
   "execution_count": 4,
   "metadata": {},
   "outputs": [
    {
     "name": "stdout",
     "output_type": "stream",
     "text": [
      "Running decorator\n"
     ]
    }
   ],
   "source": [
    "@dec\n",
    "def my_func():\n",
    "    print(\"running my_func\")"
   ]
  },
  {
   "cell_type": "markdown",
   "metadata": {},
   "source": [
    "Now if we run `my_func` using decorator factory's new instance, it will act as above"
   ]
  },
  {
   "cell_type": "code",
   "execution_count": 5,
   "metadata": {},
   "outputs": [
    {
     "name": "stdout",
     "output_type": "stream",
     "text": [
      "running inner\n",
      "running my_func\n"
     ]
    }
   ],
   "source": [
    "my_func()"
   ]
  },
  {
   "cell_type": "markdown",
   "metadata": {},
   "source": [
    "#### Note\n",
    "we know that -\n",
    "- if we decleare a finction like this, `func` then it gives the function object but dosent call it.\n",
    "- but if we decleare the function like this `func()` (_function name followed by `()`_) then it invokes(calls) \n",
    "the function\n",
    "- so we can decorate a function like this - `@dec_factory()` this syntax will call the function which inturn returns a decorator, see the example below"
   ]
  },
  {
   "cell_type": "code",
   "execution_count": 6,
   "metadata": {},
   "outputs": [
    {
     "name": "stdout",
     "output_type": "stream",
     "text": [
      "Running decorator factory\n",
      "Running decorator\n"
     ]
    }
   ],
   "source": [
    "@dec_factory()\n",
    "def my_func():\n",
    "    print(\"Running my func-2\")"
   ]
  },
  {
   "cell_type": "code",
   "execution_count": 7,
   "metadata": {},
   "outputs": [
    {
     "name": "stdout",
     "output_type": "stream",
     "text": [
      "running inner\n",
      "Running my func-2\n"
     ]
    }
   ],
   "source": [
    "my_func()"
   ]
  },
  {
   "cell_type": "markdown",
   "metadata": {},
   "source": [
    "We know that we can also decorate a function like this"
   ]
  },
  {
   "cell_type": "code",
   "execution_count": 8,
   "metadata": {},
   "outputs": [],
   "source": [
    "def my_func():\n",
    "    print(\"Running my func-3\")"
   ]
  },
  {
   "cell_type": "code",
   "execution_count": 11,
   "metadata": {},
   "outputs": [
    {
     "name": "stdout",
     "output_type": "stream",
     "text": [
      "Running decorator factory\n",
      "Running decorator\n"
     ]
    }
   ],
   "source": [
    "# Decorating the function\n",
    "my_func = dec_factory()(my_func)\n",
    "\n",
    "# Above code corresponds to this\n",
    "# dec = dec_factory()\n",
    "# my_func = dec(my_func)\n"
   ]
  },
  {
   "cell_type": "code",
   "execution_count": 13,
   "metadata": {},
   "outputs": [
    {
     "name": "stdout",
     "output_type": "stream",
     "text": [
      "running inner\n",
      "running inner\n",
      "Running my func-3\n"
     ]
    }
   ],
   "source": [
    "my_func()"
   ]
  },
  {
   "cell_type": "markdown",
   "metadata": {},
   "source": [
    "Now creating a decorator factory that takes parameter and these parameteres are passed to decorated functions"
   ]
  },
  {
   "cell_type": "code",
   "execution_count": 22,
   "metadata": {},
   "outputs": [],
   "source": [
    "def dec_factory(a,b):\n",
    "    print(\"Running decorator factory\")\n",
    "    def dec(fn):\n",
    "        print(\"Running decorator\")\n",
    "        \n",
    "        def inner(*args,**kwargs):\n",
    "            print(\"running inner\")\n",
    "            print(f\"values obtained from decorator factory -> a={a}, b={b}\")\n",
    "            return fn(*args,**kwargs)\n",
    "        return inner\n",
    "    return dec"
   ]
  },
  {
   "cell_type": "code",
   "execution_count": 23,
   "metadata": {},
   "outputs": [
    {
     "name": "stdout",
     "output_type": "stream",
     "text": [
      "Running decorator factory\n"
     ]
    }
   ],
   "source": [
    "dec = dec_factory(10,20)"
   ]
  },
  {
   "cell_type": "code",
   "execution_count": 36,
   "metadata": {},
   "outputs": [
    {
     "name": "stdout",
     "output_type": "stream",
     "text": [
      "Running decorator\n"
     ]
    }
   ],
   "source": [
    "@dec\n",
    "def my_func():\n",
    "    print(\"Runnig my_func\")"
   ]
  },
  {
   "cell_type": "code",
   "execution_count": 25,
   "metadata": {},
   "outputs": [
    {
     "name": "stdout",
     "output_type": "stream",
     "text": [
      "running inner\n",
      "values obtained from decorator factory -> a=10, b=20\n",
      "Runnig my_func\n"
     ]
    }
   ],
   "source": [
    "my_func()"
   ]
  },
  {
   "cell_type": "markdown",
   "metadata": {},
   "source": [
    "##### Other way to use this factory decorator is - "
   ]
  },
  {
   "cell_type": "code",
   "execution_count": 26,
   "metadata": {},
   "outputs": [
    {
     "name": "stdout",
     "output_type": "stream",
     "text": [
      "Running decorator factory\n",
      "Running decorator\n"
     ]
    }
   ],
   "source": [
    "\n",
    "@dec_factory(11,22)\n",
    "def my_func():\n",
    "    print(\"Runnig my_func\")"
   ]
  },
  {
   "cell_type": "code",
   "execution_count": 27,
   "metadata": {},
   "outputs": [
    {
     "name": "stdout",
     "output_type": "stream",
     "text": [
      "running inner\n",
      "values obtained from decorator factory -> a=11, b=22\n",
      "Runnig my_func\n"
     ]
    }
   ],
   "source": [
    "my_func()"
   ]
  },
  {
   "cell_type": "markdown",
   "metadata": {},
   "source": [
    "#### Now modefying `timed` decorator to take parameter `raps` to calculate average time  "
   ]
  },
  {
   "cell_type": "code",
   "execution_count": 28,
   "metadata": {},
   "outputs": [],
   "source": [
    "def timed(raps):\n",
    "    def dec(fn):\n",
    "        from functools import wraps\n",
    "        from time import perf_counter\n",
    "        \n",
    "        @wraps(fn)\n",
    "        def inner(*args,**kwargs):\n",
    "            total_elapsed = 0\n",
    "            for i in range(raps):\n",
    "                start = perf_counter()\n",
    "                result = fn(*args,**kwargs)\n",
    "                end = perf_counter()\n",
    "                total_elapsed += end-start\n",
    "            \n",
    "            avg_run_time = total_elapsed / 10\n",
    "            print(\"Avg. run time : {0:.6f}s for {1} raps \".format(avg_run_time,raps))\n",
    "            return result\n",
    "        return inner\n",
    "    return dec"
   ]
  },
  {
   "cell_type": "code",
   "execution_count": 34,
   "metadata": {},
   "outputs": [],
   "source": [
    "@timed(22)\n",
    "def fib(n):\n",
    "    return fib_recursive(n)"
   ]
  },
  {
   "cell_type": "code",
   "execution_count": 35,
   "metadata": {},
   "outputs": [
    {
     "name": "stdout",
     "output_type": "stream",
     "text": [
      "Avg. run time : 0.000002s for 22 raps \n"
     ]
    },
    {
     "data": {
      "text/plain": [
       "5"
      ]
     },
     "execution_count": 35,
     "metadata": {},
     "output_type": "execute_result"
    }
   ],
   "source": [
    "fib(5)"
   ]
  },
  {
   "cell_type": "markdown",
   "metadata": {},
   "source": [
    "> Now `@timed` is not a decorator anymore, insetd it is a decorator factory"
   ]
  }
 ],
 "metadata": {
  "kernelspec": {
   "display_name": ".venv",
   "language": "python",
   "name": "python3"
  },
  "language_info": {
   "codemirror_mode": {
    "name": "ipython",
    "version": 3
   },
   "file_extension": ".py",
   "mimetype": "text/x-python",
   "name": "python",
   "nbconvert_exporter": "python",
   "pygments_lexer": "ipython3",
   "version": "3.11.6"
  }
 },
 "nbformat": 4,
 "nbformat_minor": 2
}
