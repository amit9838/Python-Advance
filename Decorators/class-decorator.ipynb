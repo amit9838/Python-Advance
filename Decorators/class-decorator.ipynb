{
 "cells": [
  {
   "cell_type": "markdown",
   "metadata": {},
   "source": [
    "# Class Decorator"
   ]
  },
  {
   "cell_type": "markdown",
   "metadata": {},
   "source": [
    "We already know that we can create a decorator function like this- "
   ]
  },
  {
   "cell_type": "code",
   "execution_count": 2,
   "metadata": {},
   "outputs": [],
   "source": [
    "def my_dec(a,b):\n",
    "    def dec(fn):\n",
    "        def inner(*args,**kwargs):\n",
    "            print(f\"decorated function was called : a={a}, b={b}\")\n",
    "            return fn(*args,**kwargs)\n",
    "        return inner\n",
    "    return dec"
   ]
  },
  {
   "cell_type": "code",
   "execution_count": 3,
   "metadata": {},
   "outputs": [],
   "source": [
    "@my_dec(4,6)\n",
    "def my_func():\n",
    "    print(\"runnig my_func\")"
   ]
  },
  {
   "cell_type": "code",
   "execution_count": 4,
   "metadata": {},
   "outputs": [
    {
     "name": "stdout",
     "output_type": "stream",
     "text": [
      "decorated function was called : a=4, b=6\n",
      "runnig my_func\n"
     ]
    }
   ],
   "source": [
    "my_func()"
   ]
  },
  {
   "cell_type": "markdown",
   "metadata": {},
   "source": [
    "#### `__call__()` method in a class \n",
    "\n",
    "an object of a class can be made callabe by defining `__call__(self)` method so it can replace decorator function"
   ]
  },
  {
   "cell_type": "code",
   "execution_count": 5,
   "metadata": {},
   "outputs": [],
   "source": [
    "class MyClass:\n",
    "    def __init__(self, a,b):\n",
    "        self.a = a\n",
    "        self.b = b\n",
    "        \n",
    "    def __call__(self,c):\n",
    "        print(f\"called a: {self.a}, b: {self.b} and c: {c}\")"
   ]
  },
  {
   "cell_type": "code",
   "execution_count": 6,
   "metadata": {},
   "outputs": [
    {
     "data": {
      "text/plain": [
       "<__main__.MyClass at 0x109a6bfd0>"
      ]
     },
     "execution_count": 6,
     "metadata": {},
     "output_type": "execute_result"
    }
   ],
   "source": [
    "obj = MyClass(10,20)\n",
    "obj"
   ]
  },
  {
   "cell_type": "code",
   "execution_count": 7,
   "metadata": {},
   "outputs": [
    {
     "name": "stdout",
     "output_type": "stream",
     "text": [
      "called a: 10, b: 20 and c: 100\n"
     ]
    }
   ],
   "source": [
    "# So we can call the object using __call__() method like this\n",
    "obj.__call__(100)"
   ]
  },
  {
   "cell_type": "code",
   "execution_count": 8,
   "metadata": {},
   "outputs": [
    {
     "name": "stdout",
     "output_type": "stream",
     "text": [
      "called a: 10, b: 20 and c: 232\n"
     ]
    }
   ],
   "source": [
    "# Since __call__  method is already defined therefore we can call the object to execute the __call__ method \n",
    "obj(232)"
   ]
  },
  {
   "cell_type": "markdown",
   "metadata": {},
   "source": [
    "### Class decorator\n",
    "From above behaviour of the class we can create a decorator "
   ]
  },
  {
   "cell_type": "code",
   "execution_count": 9,
   "metadata": {},
   "outputs": [],
   "source": [
    "class MyClass:\n",
    "    def __init__(self, a,b):\n",
    "        self.a = a\n",
    "        self.b = b\n",
    "        \n",
    "    def __call__(self,fn):\n",
    "            def inner(*args,**kwargs):\n",
    "                print(f\"decorated function was called : a={self.a}, b={self.b}\")\n",
    "                return fn(*args,**kwargs)\n",
    "            return inner"
   ]
  },
  {
   "cell_type": "code",
   "execution_count": 10,
   "metadata": {},
   "outputs": [],
   "source": [
    "dec = MyClass(11,12)\n",
    "# This class returns a decorator instance(obj) so it can be directly used as decorator"
   ]
  },
  {
   "cell_type": "code",
   "execution_count": 11,
   "metadata": {},
   "outputs": [],
   "source": [
    "def my_func_2():\n",
    "    print(\"running my func2\")\n",
    "    \n",
    "my_func_2 = dec(my_func_2)"
   ]
  },
  {
   "cell_type": "code",
   "execution_count": 12,
   "metadata": {},
   "outputs": [
    {
     "name": "stdout",
     "output_type": "stream",
     "text": [
      "decorated function was called : a=11, b=12\n",
      "running my func2\n"
     ]
    }
   ],
   "source": [
    "my_func_2()"
   ]
  },
  {
   "cell_type": "code",
   "execution_count": 13,
   "metadata": {},
   "outputs": [],
   "source": [
    "@dec\n",
    "def my_func_3():\n",
    "    print(\"running my func_3\")\n",
    "    "
   ]
  },
  {
   "cell_type": "code",
   "execution_count": 14,
   "metadata": {},
   "outputs": [
    {
     "name": "stdout",
     "output_type": "stream",
     "text": [
      "decorated function was called : a=11, b=12\n",
      "running my func_3\n"
     ]
    }
   ],
   "source": [
    "my_func_3()"
   ]
  },
  {
   "cell_type": "markdown",
   "metadata": {},
   "source": [
    "### Alternatively\n",
    "Alternatively we can apply a class decorator like this"
   ]
  },
  {
   "cell_type": "code",
   "execution_count": 15,
   "metadata": {},
   "outputs": [],
   "source": [
    "@MyClass(33,66)\n",
    "def my_func_4():\n",
    "    print(\"running my func_4\")\n"
   ]
  },
  {
   "cell_type": "markdown",
   "metadata": {},
   "source": [
    "Here `@MyClass(33,66)` returns decorator instance of MyClass by executing `__call__()` method "
   ]
  },
  {
   "cell_type": "code",
   "execution_count": 16,
   "metadata": {},
   "outputs": [
    {
     "name": "stdout",
     "output_type": "stream",
     "text": [
      "decorated function was called : a=33, b=66\n",
      "running my func_4\n"
     ]
    }
   ],
   "source": [
    "my_func_4()"
   ]
  }
 ],
 "metadata": {
  "kernelspec": {
   "display_name": ".venv",
   "language": "python",
   "name": "python3"
  },
  "language_info": {
   "codemirror_mode": {
    "name": "ipython",
    "version": 3
   },
   "file_extension": ".py",
   "mimetype": "text/x-python",
   "name": "python",
   "nbconvert_exporter": "python",
   "pygments_lexer": "ipython3",
   "version": "3.11.6"
  }
 },
 "nbformat": 4,
 "nbformat_minor": 2
}
