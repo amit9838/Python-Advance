{
 "cells": [
  {
   "cell_type": "markdown",
   "metadata": {},
   "source": [
    "# Variables and Memory"
   ]
  },
  {
   "cell_type": "markdown",
   "metadata": {},
   "source": [
    "### Memory address\n",
    "\n",
    "When some value is assigned to a variable in python, variable acts a pointer that references the memory address of the\n",
    "data. \n",
    "\n",
    "        Ex: my_var = 10\n",
    "        let say '10' is stored at memory location 0x1001, so 'my_var' references to 0x1001. \n",
    "\n",
    "* All these data stored in memory is called heap. Heap is managed my 'python memory manager'.\n"
   ]
  },
  {
   "cell_type": "code",
   "execution_count": 6,
   "metadata": {},
   "outputs": [
    {
     "name": "stdout",
     "output_type": "stream",
     "text": [
      "10\n",
      "140558096815816\n",
      "0x7fd63b6e56c8\n"
     ]
    }
   ],
   "source": [
    "# Get memory adress of a variable in python\n",
    "\n",
    "my_var = 10\n",
    "print(my_var)\n",
    "print(id(my_var))  # Memory Address of variable\n",
    "print(hex(id(my_var)))  # Memory Address of variable in hexadecimal format"
   ]
  },
  {
   "cell_type": "markdown",
   "metadata": {},
   "source": [
    "### Reference Count\n",
    "\n",
    "When a variable is created in python to store some data, it also maintains a table to to store reference count of data \n",
    "at particular memory address.\n",
    "\n",
    "    Ex: my_var = 10\n",
    "        my_var2 = my_var\n",
    "        The above lines dosen't store the data at two diffrent memory locations, insted these two variable \n",
    "        points to the same memory locations where this data(10) is stored.\n",
    "<img src = \"https://www.pythontutorial.net/wp-content/uploads/2020/10/Python-Reference-counting-3.png\" >"
   ]
  },
  {
   "cell_type": "code",
   "execution_count": 65,
   "metadata": {},
   "outputs": [
    {
     "name": "stdout",
     "output_type": "stream",
     "text": [
      "140557777147504\n",
      "140557777147504\n",
      "140557777147504\n"
     ]
    },
    {
     "data": {
      "text/plain": [
       "3"
      ]
     },
     "execution_count": 65,
     "metadata": {},
     "output_type": "execute_result"
    }
   ],
   "source": [
    "name = \"veer\"\n",
    "\n",
    "name2 = name\n",
    "name3 = name\n",
    "\n",
    "print(id(name))\n",
    "print(id(name2))\n",
    "print(id(name3))\n",
    "\n",
    "import sys\n",
    "sys.getrefcount(name)  # This increases the refcount by 1'\n",
    "\n",
    "import ctypes\n",
    "\n",
    "ctypes.c_long.from_address(id(name)).value  # This dosen't increases the reference count because it takes the address."
   ]
  },
  {
   "cell_type": "markdown",
   "metadata": {},
   "source": [
    "### Garbage Collection\n",
    "<img src = \"https://rushter.com/static/uploads/img/circularref.svg\">"
   ]
  },
  {
   "cell_type": "markdown",
   "metadata": {},
   "source": [
    "### Dynamic vs Static typing\n",
    "- C++,Java,C are statically types while python is dynamically typed.\n",
    "- We declare variables in C++ along with its data type.\n",
    "\n",
    "<img src = \"https://miro.medium.com/v2/resize:fit:640/format:webp/1*mwkFaVdkGeCzOPeVcelmRg.png\" alt = \"Image\">\n",
    "\n",
    "        Ex: ` String name = \"Amit\" `\n",
    "        # Here we can't write \n",
    "                name = 23 (because data type of 23 is int)\n",
    "        # so data type is addatched with the variable.\n",
    "\n",
    "        But, in case of python: \n",
    "                name = \"Amit:\n",
    "                name = 22 (valid)\n",
    "        \n",
    "        This is possible because variable are just a pointer in python, and when we reassign a new value of diffrent datatype to a variable in python, then pointer starts pointing to the memory location with new data.\n",
    "\n"
   ]
  },
  {
   "cell_type": "markdown",
   "metadata": {},
   "source": [
    "### Variable Re-assignment"
   ]
  },
  {
   "cell_type": "code",
   "execution_count": 19,
   "metadata": {},
   "outputs": [
    {
     "name": "stdout",
     "output_type": "stream",
     "text": [
      "140106357692104\n",
      "140106357692328\n"
     ]
    }
   ],
   "source": [
    "my_val = 10\n",
    "print(id(my_val))  # Memory address 1\n",
    "my_val = my_val + 7\n",
    "print(id(my_val))  # Memory address 2\n",
    "\n",
    "\n",
    "# Initially 'my_val' was pointing to Memory_address_1, but afeter re assignment it starts pointsing to Memory_addres_2(diffrent address)"
   ]
  },
  {
   "cell_type": "markdown",
   "metadata": {},
   "source": [
    "### Object Mutability"
   ]
  },
  {
   "cell_type": "code",
   "execution_count": 23,
   "metadata": {},
   "outputs": [
    {
     "name": "stdout",
     "output_type": "stream",
     "text": [
      "140106357303552\n",
      "140106357341856\n"
     ]
    }
   ],
   "source": [
    "s = \"a\"\n",
    "print(id(s))\n",
    "s = \"b\"\n",
    "print(id(s))"
   ]
  },
  {
   "cell_type": "code",
   "execution_count": null,
   "metadata": {},
   "outputs": [],
   "source": []
  },
  {
   "cell_type": "markdown",
   "metadata": {},
   "source": [
    "### Shared References "
   ]
  },
  {
   "cell_type": "code",
   "execution_count": 39,
   "metadata": {},
   "outputs": [
    {
     "name": "stdout",
     "output_type": "stream",
     "text": [
      "140106357692104 - Address 1\n",
      "140106357692104 - Address 1\n",
      "140106357692168 - Address 2\n"
     ]
    }
   ],
   "source": [
    "a = 10\n",
    "b = 10\n",
    "print(id(a),\"- Address 1\")\n",
    "print(id(b),\"- Address 1\")\n",
    "\n",
    "# Here Both the variables are pointing the same memory address. (Not alwayes)\n",
    "\n",
    "# What if be if modified?\n",
    "# We know when b is re-assigned with a new value,this value is stored to a new memory address(say address_2), then  \n",
    "# b starts pointing to new address(address2)\n",
    "b = 12\n",
    "print(id(b), \"- Address 2\")\n",
    "\n",
    "# This is good for immutable(Numbers,string,tuples) data types, but for mutable(array, dict) data types, extra precaution is needed."
   ]
  },
  {
   "cell_type": "markdown",
   "metadata": {},
   "source": []
  },
  {
   "cell_type": "code",
   "execution_count": 48,
   "metadata": {},
   "outputs": [
    {
     "name": "stdout",
     "output_type": "stream",
     "text": [
      "140106070756160\n",
      "140106070756160\n",
      "140106070756160\n",
      "[1, 2, 4, 5]\n",
      "[1, 2, 4, 5]\n"
     ]
    }
   ],
   "source": [
    "# For mutable data types\n",
    "arr = [1,2,4]\n",
    "arr2 = arr\n",
    "print(id(arr))\n",
    "print(id(arr2))\n",
    "\n",
    "# Modefying arr2\n",
    "arr2.append(5)\n",
    "print(id(arr2))  # Address stays same\n",
    "\n",
    "print(arr)  # Here arr got modefied but we had modefied arr2\n",
    "print(arr2)\n",
    "\n",
    "# This happend because both pointers still points to the same memory location, even after modification in the data."
   ]
  },
  {
   "cell_type": "markdown",
   "metadata": {},
   "source": [
    "### Everything is object in python\n",
    "    Ex: int, string, operators(=,+,is,==,%), functions,class etc.\n",
    "\n",
    "- Since everything is an instance of a class so it take some space in memory.\n",
    "- Like functions in python is and instance of `built-in` python's function class, so -\n",
    "    \n",
    "    ```python\n",
    "    def my_func():\n",
    "        pass..\n",
    "    \n",
    "    print(id(my_func)) -> 0x1000 #memory location of function\n",
    "    ```"
   ]
  },
  {
   "cell_type": "code",
   "execution_count": 4,
   "metadata": {},
   "outputs": [
    {
     "name": "stdout",
     "output_type": "stream",
     "text": [
      "0x7f10a05291c0\n"
     ]
    }
   ],
   "source": [
    "def my_func():\n",
    "        pass\n",
    "\n",
    "print(hex(id(my_func))) #memory location of function"
   ]
  },
  {
   "cell_type": "markdown",
   "metadata": {},
   "source": [
    "#### As consiquence \n",
    "Any object can be -\n",
    "- assigned to a variable \n",
    "- passed to a function as argument\n",
    "- returned from a function\n",
    "\n",
    "... including functions\n",
    "\n",
    "`my_func` -> name of the function\n",
    "\n",
    "`my_func()` -> invokes the function\n",
    "\n"
   ]
  }
 ],
 "metadata": {
  "kernelspec": {
   "display_name": "jupyter",
   "language": "python",
   "name": "python3"
  },
  "language_info": {
   "codemirror_mode": {
    "name": "ipython",
    "version": 3
   },
   "file_extension": ".py",
   "mimetype": "text/x-python",
   "name": "python",
   "nbconvert_exporter": "python",
   "pygments_lexer": "ipython3",
   "version": "3.11.4"
  },
  "orig_nbformat": 4
 },
 "nbformat": 4,
 "nbformat_minor": 2
}
