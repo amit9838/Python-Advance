{
 "cells": [
  {
   "cell_type": "markdown",
   "metadata": {},
   "source": [
    "# Partial\n",
    "\n",
    "It is higher order function provided in functools module, it takes function as argument\n",
    "- With the help of `partial` we can reduce the number of argumants needed to call a function\n",
    "\n",
    "``` python\n",
    "from funtools import partial\n",
    "```"
   ]
  },
  {
   "cell_type": "code",
   "execution_count": 2,
   "metadata": {},
   "outputs": [
    {
     "name": "stdout",
     "output_type": "stream",
     "text": [
      "1 2 3\n"
     ]
    }
   ],
   "source": [
    "def func(a,b,c):\n",
    "    print(a,b,c)\n",
    "\n",
    "# Generally we calll a function like this- \n",
    "func(1,2,3)"
   ]
  },
  {
   "cell_type": "code",
   "execution_count": 9,
   "metadata": {},
   "outputs": [
    {
     "name": "stdout",
     "output_type": "stream",
     "text": [
      "10 2 3\n"
     ]
    }
   ],
   "source": [
    "# Lets reduce the number of arguments for a function\n",
    "\n",
    "def f(x,y):\n",
    "    return func(10,x,y)\n",
    "\n",
    "f(2,3)\n",
    "\n",
    "# here we are passing a = 10 by default"
   ]
  },
  {
   "cell_type": "code",
   "execution_count": 11,
   "metadata": {},
   "outputs": [
    {
     "name": "stdout",
     "output_type": "stream",
     "text": [
      "10 4 5\n"
     ]
    }
   ],
   "source": [
    "#  we can do the same thing using lambda function\n",
    "\n",
    "f = lambda x,y:func(10,x,y)\n",
    "f(4,5)"
   ]
  },
  {
   "cell_type": "markdown",
   "metadata": {},
   "source": [
    "We can achieve above using partial functions"
   ]
  },
  {
   "cell_type": "code",
   "execution_count": 17,
   "metadata": {},
   "outputs": [
    {
     "name": "stdout",
     "output_type": "stream",
     "text": [
      "2 4 0\n"
     ]
    }
   ],
   "source": [
    "\n",
    "from functools import partial\n",
    "\n",
    "# reducing number of arguments using partial\n",
    "\n",
    "new_fun = partial(func,c=0)\n",
    "\n",
    "new_fun(2,4)\n"
   ]
  },
  {
   "cell_type": "markdown",
   "metadata": {},
   "source": [
    "#### Real world examples"
   ]
  },
  {
   "cell_type": "code",
   "execution_count": 19,
   "metadata": {},
   "outputs": [
    {
     "data": {
      "text/plain": [
       "8"
      ]
     },
     "execution_count": 19,
     "metadata": {},
     "output_type": "execute_result"
    }
   ],
   "source": [
    "def pow(base,exp):\n",
    "    return base**exp\n",
    "\n",
    "pow(2,3)"
   ]
  },
  {
   "cell_type": "code",
   "execution_count": 22,
   "metadata": {},
   "outputs": [
    {
     "data": {
      "text/plain": [
       "16"
      ]
     },
     "execution_count": 22,
     "metadata": {},
     "output_type": "execute_result"
    }
   ],
   "source": [
    "# Reducing arguments\n",
    "sq = partial(pow,exp = 2)\n",
    "\n",
    "sq(4)"
   ]
  },
  {
   "cell_type": "code",
   "execution_count": 25,
   "metadata": {},
   "outputs": [
    {
     "data": {
      "text/plain": [
       "27"
      ]
     },
     "execution_count": 25,
     "metadata": {},
     "output_type": "execute_result"
    }
   ],
   "source": [
    "cube = partial(pow,exp=3)\n",
    "cube(3)"
   ]
  },
  {
   "cell_type": "markdown",
   "metadata": {},
   "source": [
    "##### Passing variables in partial function"
   ]
  },
  {
   "cell_type": "code",
   "execution_count": 32,
   "metadata": {},
   "outputs": [
    {
     "data": {
      "text/plain": [
       "40"
      ]
     },
     "execution_count": 32,
     "metadata": {},
     "output_type": "execute_result"
    }
   ],
   "source": [
    "a = 10\n",
    "\n",
    "fun = lambda x,y:x*y\n",
    "\n",
    "f1 = partial(fun,y=a)\n",
    "\n",
    "f1(4)"
   ]
  },
  {
   "cell_type": "code",
   "execution_count": 33,
   "metadata": {},
   "outputs": [
    {
     "data": {
      "text/plain": [
       "10"
      ]
     },
     "execution_count": 33,
     "metadata": {},
     "output_type": "execute_result"
    }
   ],
   "source": [
    "# lets cahnge the value of the variable\n",
    "a = 100\n",
    "\n",
    "f1(1)\n"
   ]
  },
  {
   "cell_type": "markdown",
   "metadata": {},
   "source": [
    "> Here we can see the even though we have assigned a new value to, variable a `f1` is still using the old value of \n",
    "> a, this means that , it is accessing the value using memory address, not the variable"
   ]
  },
  {
   "cell_type": "markdown",
   "metadata": {},
   "source": [
    "**Since**, the memory address of an array dosent change even after modefying the array. therefore the effect in array will reflect in the function \n"
   ]
  },
  {
   "cell_type": "code",
   "execution_count": 47,
   "metadata": {},
   "outputs": [
    {
     "name": "stdout",
     "output_type": "stream",
     "text": [
      "2 [1, 2]\n"
     ]
    }
   ],
   "source": [
    "a = [1,2]\n",
    "\n",
    "func = lambda x,y:print(x,y)\n",
    "\n",
    "f = partial(func,y=a)\n",
    "\n",
    "f(2)"
   ]
  },
  {
   "cell_type": "code",
   "execution_count": 48,
   "metadata": {},
   "outputs": [
    {
     "name": "stdout",
     "output_type": "stream",
     "text": [
      "2 [1, 2, 23]\n"
     ]
    }
   ],
   "source": [
    "a.append(23)\n",
    "\n",
    "f(2)"
   ]
  }
 ],
 "metadata": {
  "kernelspec": {
   "display_name": "jupyter",
   "language": "python",
   "name": "python3"
  },
  "language_info": {
   "codemirror_mode": {
    "name": "ipython",
    "version": 3
   },
   "file_extension": ".py",
   "mimetype": "text/x-python",
   "name": "python",
   "nbconvert_exporter": "python",
   "pygments_lexer": "ipython3",
   "version": "3.12.0"
  }
 },
 "nbformat": 4,
 "nbformat_minor": 2
}
