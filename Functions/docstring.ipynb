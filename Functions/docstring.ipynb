{
 "cells": [
  {
   "cell_type": "markdown",
   "metadata": {},
   "source": [
    "# Docstring\n",
    "- Python provides a way to document its function which is `docstring`\n",
    "- Unlike commnts these docstrings are compiled \n",
    "- for more : see pep257"
   ]
  },
  {
   "cell_type": "code",
   "execution_count": 3,
   "metadata": {},
   "outputs": [
    {
     "name": "stdout",
     "output_type": "stream",
     "text": [
      "Help on built-in function print in module builtins:\n",
      "\n",
      "print(*args, sep=' ', end='\\n', file=None, flush=False)\n",
      "    Prints the values to a stream, or to sys.stdout by default.\n",
      "\n",
      "    sep\n",
      "      string inserted between values, default a space.\n",
      "    end\n",
      "      string appended after the last value, default a newline.\n",
      "    file\n",
      "      a file-like object (stream); defaults to the current sys.stdout.\n",
      "    flush\n",
      "      whether to forcibly flush the stream.\n",
      "\n"
     ]
    }
   ],
   "source": [
    "# for example \n",
    "help(print)"
   ]
  },
  {
   "cell_type": "code",
   "execution_count": 5,
   "metadata": {},
   "outputs": [
    {
     "name": "stdout",
     "output_type": "stream",
     "text": [
      "Prints the values to a stream, or to sys.stdout by default.\n",
      "\n",
      "  sep\n",
      "    string inserted between values, default a space.\n",
      "  end\n",
      "    string appended after the last value, default a newline.\n",
      "  file\n",
      "    a file-like object (stream); defaults to the current sys.stdout.\n",
      "  flush\n",
      "    whether to forcibly flush the stream.\n"
     ]
    }
   ],
   "source": [
    "print(print.__doc__)"
   ]
  },
  {
   "cell_type": "markdown",
   "metadata": {},
   "source": [
    "##### Note: Above the documentation for print() function in python"
   ]
  },
  {
   "cell_type": "code",
   "execution_count": 7,
   "metadata": {},
   "outputs": [
    {
     "name": "stdout",
     "output_type": "stream",
     "text": [
      "Help on function get_mean in module __main__:\n",
      "\n",
      "get_mean(*args)\n",
      "    Calculates mean of n numbers.\n",
      "    Formula:\n",
      "    mean = (sum of n numbers)/n\n",
      "\n",
      "--------------\n",
      "\n",
      "    Calculates mean of n numbers.\n",
      "    Formula:\n",
      "    mean = (sum of n numbers)/n\n",
      "    \n"
     ]
    }
   ],
   "source": [
    "def get_mean(*args):\n",
    "    \"\"\"\n",
    "    Calculates mean of n numbers.\n",
    "    Formula:\n",
    "    mean = (sum of n numbers)/n\n",
    "    \"\"\"\n",
    "\n",
    "# Methods to see documentation\n",
    "help(get_mean)\n",
    "print(\"--------------\")\n",
    "print(get_mean.__doc__)\n",
    "\n",
    "\n"
   ]
  },
  {
   "cell_type": "markdown",
   "metadata": {},
   "source": [
    "## Annotations\n",
    "```python\n",
    "def func(a:'an int',b:'should be a string')\n",
    "```\n",
    "\n"
   ]
  },
  {
   "cell_type": "code",
   "execution_count": 13,
   "metadata": {},
   "outputs": [
    {
     "name": "stdout",
     "output_type": "stream",
     "text": [
      "Documentation for 'func'\n",
      "------------------------\n",
      "{'a': 'annotation for a', 'b': 'annotation for b', 'return': 'annotation for return type'}\n"
     ]
    }
   ],
   "source": [
    "def func(a:'annotation for a',\n",
    "         b:'annotation for b')->'annotation for return type':\n",
    "    \"\"\"Documentation for 'func'\"\"\"\n",
    "    return a*b\n",
    "\n",
    "print(func.__doc__)\n",
    "print(\"------------------------\")\n",
    "print(func.__annotations__)"
   ]
  },
  {
   "cell_type": "markdown",
   "metadata": {},
   "source": [
    "- Documentation is stored under `func.__doc__` \n",
    "- Annotation is stored under `func.__annotations__`\n",
    "- Annotations are stored as key value pair in a dictonary, so `parameters` are `keys` and `annotations` are values\n",
    "    and for return annotation key is `return` (predefined)"
   ]
  },
  {
   "cell_type": "markdown",
   "metadata": {},
   "source": [
    "##### Annotation can also parse expressions"
   ]
  },
  {
   "cell_type": "code",
   "execution_count": 15,
   "metadata": {},
   "outputs": [
    {
     "data": {
      "text/plain": [
       "'aaaaa'"
      ]
     },
     "execution_count": 15,
     "metadata": {},
     "output_type": "execute_result"
    }
   ],
   "source": [
    "x=5\n",
    "y=3\n",
    "def my_func(a):\n",
    "    return a*max(x,y)\n",
    "\n",
    "my_func('a')"
   ]
  },
  {
   "cell_type": "code",
   "execution_count": 23,
   "metadata": {},
   "outputs": [
    {
     "name": "stdout",
     "output_type": "stream",
     "text": [
      "{'a': 'some string', 'return': 'a repeated 5 times'}\n"
     ]
    },
    {
     "data": {
      "text/plain": [
       "'aaaaa'"
      ]
     },
     "execution_count": 23,
     "metadata": {},
     "output_type": "execute_result"
    }
   ],
   "source": [
    "# With annotation\n",
    "def my_func(a:'some string')->\"a repeated \"+ str(max(x,y))+\" times\":\n",
    "    return a*max(x,y)\n",
    "\n",
    "print(my_func.__annotations__)\n",
    "\n",
    "my_func('a')\n",
    "\n",
    "# Caution: expression in annotation is evaluated at the time of compilation, `x,y` should be predefined"
   ]
  },
  {
   "cell_type": "code",
   "execution_count": 24,
   "metadata": {},
   "outputs": [],
   "source": [
    "def my_func(a:str,\n",
    "            b:\"int > 10\" = 1,\n",
    "            *args : \"some extra positionl args\",\n",
    "            k1:\"keyword-only arg 1\" = 100,\n",
    "            k2:\"keyword-only arg 2\",\n",
    "            **kwargs:\"some extra keyword-only arguments\") -> \"something\":\n",
    "    \n",
    "    print(a,b,args,k1,k2,kwargs)"
   ]
  },
  {
   "cell_type": "code",
   "execution_count": 27,
   "metadata": {},
   "outputs": [
    {
     "name": "stdout",
     "output_type": "stream",
     "text": [
      "Help on function my_func in module __main__:\n",
      "\n",
      "my_func(a: str, b: 'int > 10' = 1, *args: 'some extra positionl args', k1: 'keyword-only arg 1' = 100, k2: 'keyword-only arg 2', **kwargs: 'some extra keyword-only arguments') -> 'something'\n",
      "\n"
     ]
    }
   ],
   "source": [
    "help(my_func)"
   ]
  },
  {
   "cell_type": "code",
   "execution_count": 28,
   "metadata": {},
   "outputs": [
    {
     "data": {
      "text/plain": [
       "{'a': str,\n",
       " 'b': 'int > 10',\n",
       " 'args': 'some extra positionl args',\n",
       " 'k1': 'keyword-only arg 1',\n",
       " 'k2': 'keyword-only arg 2',\n",
       " 'kwargs': 'some extra keyword-only arguments',\n",
       " 'return': 'something'}"
      ]
     },
     "execution_count": 28,
     "metadata": {},
     "output_type": "execute_result"
    }
   ],
   "source": [
    "my_func.__annotations__"
   ]
  },
  {
   "cell_type": "code",
   "execution_count": 30,
   "metadata": {},
   "outputs": [
    {
     "name": "stdout",
     "output_type": "stream",
     "text": [
      "1 2 (3, 4, 5, 6) 10 20 {'zz': 10, 'mm': 'aaa'}\n"
     ]
    }
   ],
   "source": [
    "my_func(1,2,3,4,5,6,k1=10,k2=20,zz=10,mm='aaa')\n",
    "\n",
    "# Here a was defined to take str parameter but still it dosen't throw any error on passing diffrent datatype "
   ]
  }
 ],
 "metadata": {
  "kernelspec": {
   "display_name": "jupyter",
   "language": "python",
   "name": "python3"
  },
  "language_info": {
   "codemirror_mode": {
    "name": "ipython",
    "version": 3
   },
   "file_extension": ".py",
   "mimetype": "text/x-python",
   "name": "python",
   "nbconvert_exporter": "python",
   "pygments_lexer": "ipython3",
   "version": "3.12.0"
  },
  "orig_nbformat": 4
 },
 "nbformat": 4,
 "nbformat_minor": 2
}
