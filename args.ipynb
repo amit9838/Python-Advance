{
 "cells": [
  {
   "cell_type": "markdown",
   "metadata": {},
   "source": [
    "# *args\n",
    "\n",
    "- Generally this keword is used in python functions so that variable positional arguments can be passed.\n",
    "- This technique came from iterable unpacking\n",
    "\n",
    "so,\n",
    "\n",
    "```python\n",
    "a,b,*c = [1,2,3,4,5]\n",
    "\n",
    "# which unpackes to -\n",
    "a = 1\n",
    "b = 2\n",
    "c = (3,4,5)  # this unpacks to tuple not list\n",
    "\n",
    "# In functions\n",
    "def func(a,b,*c):\n",
    "    a = 1\n",
    "    b = 2\n",
    "    c = (3,4,5)\n",
    "\n",
    "func(1,2,3,4,5)\n",
    "```\n"
   ]
  },
  {
   "cell_type": "code",
   "execution_count": 4,
   "metadata": {},
   "outputs": [
    {
     "name": "stdout",
     "output_type": "stream",
     "text": [
      "a: 1\n",
      "b: 2\n",
      "c: (3, 4, 5)\n"
     ]
    }
   ],
   "source": [
    "def func(a,b,*c):\n",
    "    print(\"a:\",a)\n",
    "    print(\"b:\",b)\n",
    "    print(\"c:\",c)\n",
    "\n",
    "func(1,2,3,4,5)\n",
    "\n",
    "# Generally we use *args insted of other variables like- *a, *vals  etc for understability"
   ]
  },
  {
   "cell_type": "code",
   "execution_count": 5,
   "metadata": {},
   "outputs": [
    {
     "ename": "TypeError",
     "evalue": "func1() missing 1 required keyword-only argument: 'd'",
     "output_type": "error",
     "traceback": [
      "\u001b[0;31m---------------------------------------------------------------------------\u001b[0m",
      "\u001b[0;31mTypeError\u001b[0m                                 Traceback (most recent call last)",
      "\u001b[1;32m/home/amit/Drive-D/Code/Python/Advance Python/args.ipynb Cell 3\u001b[0m line \u001b[0;36m1\n\u001b[1;32m     <a href='vscode-notebook-cell:/home/amit/Drive-D/Code/Python/Advance%20Python/args.ipynb#W2sZmlsZQ%3D%3D?line=9'>10</a>\u001b[0m     \u001b[39mprint\u001b[39m(\u001b[39m\"\u001b[39m\u001b[39mb:\u001b[39m\u001b[39m\"\u001b[39m,b)\n\u001b[1;32m     <a href='vscode-notebook-cell:/home/amit/Drive-D/Code/Python/Advance%20Python/args.ipynb#W2sZmlsZQ%3D%3D?line=10'>11</a>\u001b[0m     \u001b[39mprint\u001b[39m(\u001b[39m\"\u001b[39m\u001b[39mc:\u001b[39m\u001b[39m\"\u001b[39m,c)\n\u001b[0;32m---> <a href='vscode-notebook-cell:/home/amit/Drive-D/Code/Python/Advance%20Python/args.ipynb#W2sZmlsZQ%3D%3D?line=12'>13</a>\u001b[0m func1(\u001b[39m1\u001b[39;49m,\u001b[39m2\u001b[39;49m,\u001b[39m3\u001b[39;49m,\u001b[39m4\u001b[39;49m,\u001b[39m5\u001b[39;49m)\n",
      "\u001b[0;31mTypeError\u001b[0m: func1() missing 1 required keyword-only argument: 'd'"
     ]
    }
   ],
   "source": [
    "#  Warning: We can't use positional arguments after *args\n",
    "\n",
    "def func1(a,b,*c,d):\n",
    "    print(\"a:\",a)\n",
    "    print(\"b:\",b)\n",
    "    print(\"c:\",c)\n",
    "\n",
    "func1(1,2,3,4,5)\n"
   ]
  },
  {
   "cell_type": "code",
   "execution_count": 17,
   "metadata": {},
   "outputs": [
    {
     "name": "stdout",
     "output_type": "stream",
     "text": [
      "a: 1\n",
      "b: 2\n",
      "c: (3, 4, 5)\n",
      "\n",
      "a: 1\n",
      "b: 2\n",
      "c: (3, 4, 5)\n",
      "\n",
      "a: 1\n",
      "b: 2\n",
      "c: (3, 4, 5)\n"
     ]
    },
    {
     "ename": "TypeError",
     "evalue": "func() missing 1 required positional argument: 'b'",
     "output_type": "error",
     "traceback": [
      "\u001b[0;31m---------------------------------------------------------------------------\u001b[0m",
      "\u001b[0;31mTypeError\u001b[0m                                 Traceback (most recent call last)",
      "\u001b[1;32m/home/amit/Drive-D/Code/Python/Advance Python/args.ipynb Cell 5\u001b[0m line \u001b[0;36m1\n\u001b[1;32m     <a href='vscode-notebook-cell:/home/amit/Drive-D/Code/Python/Advance%20Python/args.ipynb#W4sZmlsZQ%3D%3D?line=14'>15</a>\u001b[0m \u001b[39mprint\u001b[39m()\n\u001b[1;32m     <a href='vscode-notebook-cell:/home/amit/Drive-D/Code/Python/Advance%20Python/args.ipynb#W4sZmlsZQ%3D%3D?line=15'>16</a>\u001b[0m func(\u001b[39m*\u001b[39ms)\n\u001b[0;32m---> <a href='vscode-notebook-cell:/home/amit/Drive-D/Code/Python/Advance%20Python/args.ipynb#W4sZmlsZQ%3D%3D?line=16'>17</a>\u001b[0m func(l) \u001b[39m# Linst needs to be unpacked first\u001b[39;00m\n",
      "\u001b[0;31mTypeError\u001b[0m: func() missing 1 required positional argument: 'b'"
     ]
    }
   ],
   "source": [
    "# A list can also be unpacked directly while function calls\n",
    "\n",
    "def func(a,b,*c):\n",
    "    print(\"a:\",a)\n",
    "    print(\"b:\",b)\n",
    "    print(\"c:\",c)\n",
    "\n",
    "l = [1,2,3,4,5]\n",
    "t = (1,2,3,4,5)\n",
    "s = {1,2,3,4,5}  #order not garunteed\n",
    "\n",
    "func(*l)\n",
    "print()\n",
    "func(*t)\n",
    "print()\n",
    "func(*s)\n",
    "func(l) # Linst needs to be unpacked first\n"
   ]
  },
  {
   "cell_type": "code",
   "execution_count": null,
   "metadata": {},
   "outputs": [],
   "source": []
  }
 ],
 "metadata": {
  "kernelspec": {
   "display_name": "jupyter",
   "language": "python",
   "name": "python3"
  },
  "language_info": {
   "codemirror_mode": {
    "name": "ipython",
    "version": 3
   },
   "file_extension": ".py",
   "mimetype": "text/x-python",
   "name": "python",
   "nbconvert_exporter": "python",
   "pygments_lexer": "ipython3",
   "version": "3.12.0"
  },
  "orig_nbformat": 4
 },
 "nbformat": 4,
 "nbformat_minor": 2
}
