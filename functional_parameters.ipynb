{
 "cells": [
  {
   "cell_type": "markdown",
   "metadata": {},
   "source": [
    "# Functional Parameters"
   ]
  },
  {
   "cell_type": "code",
   "execution_count": 2,
   "metadata": {},
   "outputs": [
    {
     "name": "stdout",
     "output_type": "stream",
     "text": [
      "139915135178184\n",
      "139915135178184\n"
     ]
    }
   ],
   "source": [
    "def my_fun(x,y):\n",
    "    print(id(x))\n",
    "\n",
    "#  x,y are parameters of the functions 'my_func' and are also local variables to 'my_func()'\n",
    "\n",
    "a = 2\n",
    "b = 3\n",
    "print(id(a))\n",
    "my_fun(a,b)  # a,b are arguments to the function 'my_fun', a,b are passed as reference\n",
    "                # i.e.  memory address of a,b are passed"
   ]
  },
  {
   "cell_type": "markdown",
   "metadata": {},
   "source": [
    "###  Posititional and Keyword arguments"
   ]
  },
  {
   "cell_type": "markdown",
   "metadata": {},
   "source": [
    "##### Positional arguments"
   ]
  },
  {
   "cell_type": "code",
   "execution_count": null,
   "metadata": {},
   "outputs": [],
   "source": [
    "# this function takes postional arguments\n",
    "def my_func(x,y):   \n",
    "    pass\n",
    "\n",
    "my_func(2,4)"
   ]
  },
  {
   "cell_type": "code",
   "execution_count": null,
   "metadata": {},
   "outputs": [],
   "source": [
    "# Passing default value\n",
    "def my_func(x,y=0):   \n",
    "    pass\n",
    "\n",
    "my_func(2,4) \n",
    "my_func(2)  # function can also be called with one argument,\n",
    "            # If second argument is not passed then 'y=0' is considred and used throughout the function\n",
    "\n",
    "# Caution :\n",
    "#  If a positional parameter is defined with a default value - \n",
    "#       - every positional parameter after it\n",
    "#       - must also be given a default value"
   ]
  },
  {
   "cell_type": "markdown",
   "metadata": {},
   "source": [
    "##### Keyword arguments\n",
    "\n",
    "Positional arguments can, optioanlly, be specified by using default parameter name\n",
    "whether or not the parameters have default values"
   ]
  },
  {
   "cell_type": "code",
   "execution_count": null,
   "metadata": {},
   "outputs": [],
   "source": [
    "def my_func(a, b, c):\n",
    "    pass\n",
    "\n",
    "my_func(1, 2, 3)\n",
    "my_func(1, 2, c=3)\n",
    "my_func(a=1, b=2, c=3)\n",
    "my_func(c=3, a=1, b=2)\n",
    "\n",
    "#  Caution:\n",
    "#  Named positional arguments can't be used after named arguments(keyword arguments)\n",
    "\n",
    "\n",
    "# All arguments after the first named (keyword) argument, must be named too\n",
    "# Default arguments may still be omitted\n",
    "\n",
    "def my_func(a, b=2, c=3):\n",
    "    pass\n",
    "\n",
    "my_func(1)\n",
    "my_func(a=1, b=5)\n",
    "my_func(c=0, a=1)"
   ]
  },
  {
   "cell_type": "markdown",
   "metadata": {},
   "source": [
    "## Unpacking Iterables\n",
    "\n",
    "Packed values refers to values that are bundled together in some way like -\n",
    "\n",
    "- lists = [1,2,3]\n",
    "- tuple = (1,2,3)\n",
    "- strgin = \"string\"\n",
    "- dictonary = {a:1,b:2}\n",
    "- sets = {1,2,3}\n",
    "\n",
    "infact iterables can be considred as packed values\n",
    "\n",
    "Unpacking is the act of `splitting` packed values into `individual variables` contained in a list or tuple\n"
   ]
  },
  {
   "cell_type": "code",
   "execution_count": 3,
   "metadata": {},
   "outputs": [
    {
     "name": "stdout",
     "output_type": "stream",
     "text": [
      "1\n",
      "2\n",
      "3\n"
     ]
    }
   ],
   "source": [
    "# Unpacking list\n",
    "l1 = [1,2,3] # This list caontains three variables to be unpacked in, so\n",
    "\n",
    "a,b,c = l1\n",
    "\n",
    "print(a)\n",
    "print(b)\n",
    "print(c)\n",
    "\n",
    "# The unpacking into individual variables is based on the relative positions of each element"
   ]
  },
  {
   "cell_type": "code",
   "execution_count": 14,
   "metadata": {},
   "outputs": [
    {
     "name": "stdout",
     "output_type": "stream",
     "text": [
      "1 2 3\n",
      "<class 'tuple'>\n",
      "<class 'tuple'>\n",
      "<class 'int'>\n",
      "<class 'tuple'>\n",
      "\n",
      "Raghav 21 True\n"
     ]
    }
   ],
   "source": [
    "# Unpacking tuples  (Contains importent trick)\n",
    "\n",
    "t = (1,2,3)\n",
    "a,b,c = t\n",
    "print(a,b,c)\n",
    "\n",
    "# we know that tuples can also be created as below\n",
    "t2 = 1,2,3\n",
    "print(type(t2))\n",
    "\n",
    "# and also\n",
    "t3 = 1,\n",
    "print(type(t3))\n",
    "\n",
    "# But not\n",
    "t4 = (1)  # Actually is created int\n",
    "print(type(t4))\n",
    "\n",
    "# But this creates an empty tuple\n",
    "t5 = ()\n",
    "print(type(t5))\n",
    "\n",
    "# since we can create tuples like t2,t3, therefore \n",
    "# we can initialize multiple variable using tuple unpacking technique, so\n",
    "\n",
    "name,age,is_student = \"Raghav\", 21, True\n",
    "\n",
    "print()\n",
    "print(name,age,is_student)\n"
   ]
  },
  {
   "cell_type": "code",
   "execution_count": 15,
   "metadata": {},
   "outputs": [
    {
     "name": "stdout",
     "output_type": "stream",
     "text": [
      "a b\n"
     ]
    }
   ],
   "source": [
    "# Unpacking string\n",
    "a,b = \"ab\"\n",
    "print(a,b)"
   ]
  },
  {
   "cell_type": "markdown",
   "metadata": {},
   "source": [
    "#### Unpacking sets/Dictoneries"
   ]
  },
  {
   "cell_type": "code",
   "execution_count": 34,
   "metadata": {},
   "outputs": [
    {
     "name": "stdout",
     "output_type": "stream",
     "text": [
      "x 1 3 4\n",
      "x\n",
      "1\n",
      "3\n",
      "4\n",
      "\n",
      "a b\n",
      "a b\n",
      "1 2\n"
     ]
    }
   ],
   "source": [
    "s = {1,'x',3,4}\n",
    "a,b,c,d = s  # Here order is not certainly maintained as the actual set\n",
    "print(a,b,c,d)\n",
    "\n",
    "# Unpacking order is same is iteration order\n",
    "for x in s:\n",
    "    print(x) \n",
    "\n",
    "print()\n",
    "di = {\"a\":1,\"b\":2}\n",
    "x1,x2 = di  # This unpacks keys only\n",
    "print(x1,x2)\n",
    "\n",
    "x1,x2 = di.keys()  # This unpacks keys only\n",
    "print(x1,x2)\n",
    "\n",
    "x1,x2 = di.values()  # This unpacks values only\n",
    "print(x1,x2)"
   ]
  },
  {
   "cell_type": "markdown",
   "metadata": {},
   "source": [
    "##### Applications of unpacking"
   ]
  },
  {
   "cell_type": "code",
   "execution_count": 38,
   "metadata": {},
   "outputs": [
    {
     "name": "stdout",
     "output_type": "stream",
     "text": [
      "Initially:  1 2\n",
      "Finally:  2 1\n"
     ]
    }
   ],
   "source": [
    "# Swap two numbers \n",
    "a,b = 1,2\n",
    "print(\"Initially: \",a,b)\n",
    "\n",
    "b,a = a,b #swap\n",
    "print(\"Finally: \",a,b)"
   ]
  },
  {
   "cell_type": "markdown",
   "metadata": {},
   "source": [
    "#### The use of * operator\n",
    "We don't always want to unpack every single item in an iterable\n",
    "\n",
    "We may, for example, want to unpack the first value, and then unpack the remaining values into\n",
    "another variable"
   ]
  },
  {
   "cell_type": "code",
   "execution_count": 5,
   "metadata": {},
   "outputs": [
    {
     "name": "stdout",
     "output_type": "stream",
     "text": [
      "1 [2, 3, 4, 5]\n",
      "1 [2, 3, 4, 5]\n",
      "1 [2, 3, 4, 5]\n"
     ]
    }
   ],
   "source": [
    "l = [1,2,3,4,5]\n",
    "l1 = l[0]\n",
    "l2 = l[1:]\n",
    "print(l1,l2)\n",
    "\n",
    "# Or we can unpack with parallel assignment (like tuple unpacking)\n",
    "a, b = l[0], l[1:]\n",
    "print(a,b)\n",
    "\n",
    "# Or we can unpack using *operator\n",
    "\n",
    "c, *d = l\n",
    "print(c,d)\n",
    "\n",
    "# Here first element(c) is assigned with first item in the list\n",
    "# and remaining elements are stored in the list b"
   ]
  },
  {
   "cell_type": "code",
   "execution_count": 7,
   "metadata": {},
   "outputs": [
    {
     "name": "stdout",
     "output_type": "stream",
     "text": [
      "s\n",
      "['t', 'r', 'i', 'n', 'g']\n"
     ]
    }
   ],
   "source": [
    "a,*b = \"string\"\n",
    "print(a)\n",
    "print(b)"
   ]
  }
 ],
 "metadata": {
  "kernelspec": {
   "display_name": "jupyter",
   "language": "python",
   "name": "python3"
  },
  "language_info": {
   "codemirror_mode": {
    "name": "ipython",
    "version": 3
   },
   "file_extension": ".py",
   "mimetype": "text/x-python",
   "name": "python",
   "nbconvert_exporter": "python",
   "pygments_lexer": "ipython3",
   "version": "3.11.4"
  },
  "orig_nbformat": 4
 },
 "nbformat": 4,
 "nbformat_minor": 2
}
